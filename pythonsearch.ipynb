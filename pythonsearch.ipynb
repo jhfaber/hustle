{
 "cells": [
  {
   "cell_type": "code",
<<<<<<< HEAD
   "execution_count": 3,
   "metadata": {},
   "outputs": [
    {
     "ename": "ModuleNotFoundError",
     "evalue": "No module named 'imagesearch'",
     "output_type": "error",
     "traceback": [
      "\u001b[1;31m---------------------------------------------------------------------------\u001b[0m",
      "\u001b[1;31mModuleNotFoundError\u001b[0m                       Traceback (most recent call last)",
      "\u001b[1;32m<ipython-input-3-d73cd4d9e0a1>\u001b[0m in \u001b[0;36m<module>\u001b[1;34m\u001b[0m\n\u001b[0;32m      5\u001b[0m \u001b[1;31m# from app import imagesearch as ims\u001b[0m\u001b[1;33m\u001b[0m\u001b[1;33m\u001b[0m\u001b[1;33m\u001b[0m\u001b[0m\n\u001b[0;32m      6\u001b[0m \u001b[1;32mfrom\u001b[0m \u001b[0mapp\u001b[0m\u001b[1;33m.\u001b[0m\u001b[0mcaminos\u001b[0m \u001b[1;32mimport\u001b[0m \u001b[0mcaminos\u001b[0m\u001b[1;33m\u001b[0m\u001b[1;33m\u001b[0m\u001b[0m\n\u001b[1;32m----> 7\u001b[1;33m \u001b[1;32mfrom\u001b[0m \u001b[0mapp\u001b[0m \u001b[1;32mimport\u001b[0m \u001b[0mapp\u001b[0m\u001b[1;33m\u001b[0m\u001b[1;33m\u001b[0m\u001b[0m\n\u001b[0m\u001b[0;32m      8\u001b[0m \u001b[1;32mimport\u001b[0m \u001b[0mtime\u001b[0m\u001b[1;33m\u001b[0m\u001b[1;33m\u001b[0m\u001b[0m\n\u001b[0;32m      9\u001b[0m \u001b[1;33m\u001b[0m\u001b[0m\n",
      "\u001b[1;32m~\\development\\hustle\\hustle\\app\\app.py\u001b[0m in \u001b[0;36m<module>\u001b[1;34m\u001b[0m\n\u001b[0;32m      1\u001b[0m \u001b[1;33m\u001b[0m\u001b[0m\n\u001b[0;32m      2\u001b[0m \u001b[1;33m\u001b[0m\u001b[0m\n\u001b[1;32m----> 3\u001b[1;33m \u001b[1;32mimport\u001b[0m \u001b[0mimagesearch\u001b[0m \u001b[1;32mas\u001b[0m \u001b[0mims\u001b[0m\u001b[1;33m\u001b[0m\u001b[1;33m\u001b[0m\u001b[0m\n\u001b[0m\u001b[0;32m      4\u001b[0m \u001b[1;32mfrom\u001b[0m \u001b[0mcaminos\u001b[0m \u001b[1;32mimport\u001b[0m \u001b[0mcaminos\u001b[0m\u001b[1;33m\u001b[0m\u001b[1;33m\u001b[0m\u001b[0m\n\u001b[0;32m      5\u001b[0m \u001b[1;32mimport\u001b[0m \u001b[0mrandom\u001b[0m\u001b[1;33m\u001b[0m\u001b[1;33m\u001b[0m\u001b[0m\n",
      "\u001b[1;31mModuleNotFoundError\u001b[0m: No module named 'imagesearch'"
     ]
    }
   ],
   "source": [
    "\n",
    "import importlib\n",
    "\n",
    "import random\n",
    "\n",
    "# from app import imagesearch as ims\n",
    "from app.caminos import caminos\n",
    "from app import app\n",
    "import time\n",
    "\n",
    "from pynput.mouse import Button, Controller\n",
    "mouse=Controller()\n",
    "\n",
    "importlib.reload(ims)"
=======
   "execution_count": 4,
   "metadata": {},
   "outputs": [],
   "source": [
    "import imagesearch as im\n"
>>>>>>> ff5ad064fed2c83027a5401447802a91eaafa034
   ]
  },
  {
   "cell_type": "code",
   "execution_count": null,
   "metadata": {},
   "outputs": [],
   "source": []
  },
  {
   "cell_type": "code",
<<<<<<< HEAD
   "execution_count": 17,
   "metadata": {},
   "outputs": [
    {
     "ename": "KeyboardInterrupt",
     "evalue": "",
     "output_type": "error",
     "traceback": [
      "\u001b[1;31m---------------------------------------------------------------------------\u001b[0m",
      "\u001b[1;31mKeyboardInterrupt\u001b[0m                         Traceback (most recent call last)",
      "\u001b[1;32m<ipython-input-17-38d4210d25c2>\u001b[0m in \u001b[0;36m<module>\u001b[1;34m\u001b[0m\n\u001b[0;32m     22\u001b[0m         \u001b[0mims\u001b[0m\u001b[1;33m.\u001b[0m\u001b[0mclick_image\u001b[0m\u001b[1;33m(\u001b[0m\u001b[0mpath\u001b[0m\u001b[1;33m+\u001b[0m\u001b[1;34m\"portal_si_pelear.PNG\"\u001b[0m\u001b[1;33m,\u001b[0m\u001b[0mpos\u001b[0m\u001b[1;33m,\u001b[0m\u001b[1;34m\"left\"\u001b[0m\u001b[1;33m,\u001b[0m\u001b[0mclicks\u001b[0m\u001b[1;33m=\u001b[0m\u001b[1;36m1\u001b[0m\u001b[1;33m)\u001b[0m\u001b[1;33m\u001b[0m\u001b[1;33m\u001b[0m\u001b[0m\n\u001b[0;32m     23\u001b[0m \u001b[1;33m\u001b[0m\u001b[0m\n\u001b[1;32m---> 24\u001b[1;33m     \u001b[0mtime\u001b[0m\u001b[1;33m.\u001b[0m\u001b[0msleep\u001b[0m\u001b[1;33m(\u001b[0m\u001b[1;36m4\u001b[0m\u001b[1;33m)\u001b[0m\u001b[1;33m\u001b[0m\u001b[1;33m\u001b[0m\u001b[0m\n\u001b[0m",
      "\u001b[1;31mKeyboardInterrupt\u001b[0m: "
     ]
    }
   ],
   "source": [
    "# tiempo=2\n",
    "# while(True):\n",
    "#     pos = ims.imagesearch(path+\"portal_nivel80.PNG\")\n",
    "#     if(pos[0]!=-1):\n",
    "#         time.sleep(tiempo)\n",
    "#         ims.click_image(path+\"portal_nivel80.PNG\",pos,\"left\",clicks=1)\n",
    "\n",
    "    \n",
    "#     pos = ims.imagesearch(path+\"portal_atacar55k.PNG\")\n",
    "#     if(pos[0]!=-1):\n",
    "#         time.sleep(tiempo)\n",
    "#         ims.click_image(path+\"portal_atacar55k.PNG\",pos,\"left\",clicks=1)\n",
    "        \n",
    "#     pos = ims.imagesearch(path+\"portal_castillo.PNG\")\n",
    "#     if(pos[0]!=-1):\n",
    "#         time.sleep(tiempo)\n",
    "#         ims.click_image(path+\"portal_castillo.PNG\",pos,\"left\",clicks=1)\n",
    "        \n",
    "#     pos = ims.imagesearch(path+\"portal_si_pelear.PNG\")\n",
    "#     if(pos[0]!=-1):\n",
    "#         time.sleep(tiempo)\n",
    "#         ims.click_image(path+\"portal_si_pelear.PNG\",pos,\"left\",clicks=1)\n",
    "        \n",
    "#     time.sleep(4)\n"
   ]
  },
  {
   "cell_type": "code",
   "execution_count": 5,
   "metadata": {},
   "outputs": [],
   "source": [
    "path=\"app/img/\""
   ]
  },
  {
   "cell_type": "code",
   "execution_count": 49,
   "metadata": {},
   "outputs": [
    {
     "data": {
      "text/plain": [
       "(500, 644)"
      ]
     },
     "execution_count": 49,
     "metadata": {},
     "output_type": "execute_result"
    }
   ],
   "source": [
    "pos = ims.imagesearch(path+\"arena.PNG\")\n",
    "pos"
   ]
  },
  {
   "cell_type": "code",
   "execution_count": 8,
   "metadata": {},
   "outputs": [
    {
     "data": {
      "text/plain": [
       "[-1, -1]"
      ]
     },
     "execution_count": 8,
     "metadata": {},
     "output_type": "execute_result"
    }
   ],
   "source": [
    "ims.imagesearch(path+\"2.PNG\")"
   ]
  },
  {
   "cell_type": "code",
   "execution_count": 50,
   "metadata": {},
   "outputs": [],
   "source": [
    "if(pos[0]!=-1):\n",
    "    ims.click_image(path+\"arena.PNG\",pos,\"left\",clicks=1)"
   ]
  },
  {
   "cell_type": "code",
   "execution_count": 66,
   "metadata": {},
   "outputs": [
    {
     "data": {
      "text/plain": [
       "[{'img': 'mapa.PNG', 'accion': 'click'},\n",
       " {'img': 'arena.PNG', 'accion': 'click'}]"
      ]
     },
     "execution_count": 66,
     "metadata": {},
     "output_type": "execute_result"
    }
   ],
   "source": [
    "caminos[\"jugar_arena\"]"
   ]
  },
  {
   "cell_type": "code",
   "execution_count": null,
   "metadata": {},
   "outputs": [],
   "source": [
    "def encontrar_pos():\n",
    "    ims.imagesearch(path+\"2.PNG\")"
   ]
  },
  {
   "cell_type": "code",
   "execution_count": 73,
   "metadata": {},
   "outputs": [
    {
     "name": "stdout",
     "output_type": "stream",
     "text": [
      "1\n",
      "1\n"
     ]
    }
   ],
   "source": [
    "def ejecutar_camino(camino=\"jugar_arena\"):\n",
    "    ejecutar=caminos[camino]\n",
    "#     print(ejecutar)\n",
    "    \n",
    "    for i, item in enumerate(ejecutar):\n",
    "#         print(item)\n",
    "        time.sleep(3)\n",
    "        correcto = ejecutar_accion(item)\n",
    "        print(correcto)\n",
    "\n",
    "ejecutar_camino()"
   ]
  },
  {
   "cell_type": "code",
   "execution_count": 68,
   "metadata": {},
   "outputs": [],
   "source": [
    "def ejecutar_accion(item):\n",
    "    img= path+item[\"img\"]\n",
    "    accion= item[\"accion\"]\n",
    "    \n",
    "    pos = ims.imagesearch(img)\n",
    "    if(pos[0]!=-1):\n",
    "\n",
    "        if(accion==\"click\"):\n",
    "            ims.click_image(img,pos,\"left\")\n",
    "        elif(accion==\"doble\"):\n",
    "            ims.click_image(image=img,clicks=2,pos=pos,action=\"left\")\n",
    "        return 1\n",
    "    \n",
    "    return 0"
   ]
  },
  {
   "cell_type": "code",
   "execution_count": 76,
   "metadata": {},
   "outputs": [],
   "source": [
    "def done_click(position1, position2):\n",
    "    mouse.position=(position1,position2)\n",
    "    mouse.click(Button.left,1)\n",
    "\n",
    "\n",
    "\n",
    "\n",
    "\n",
    "\n",
    "\n",
    "# while True:\n",
    "#     done_click(315, 382)\n",
    "#     time.sleep(5)\n",
    "#     done_click(1273, 345)\n",
    "#     time.sleep(5)"
   ]
  },
  {
   "cell_type": "code",
   "execution_count": 98,
   "metadata": {},
   "outputs": [
    {
     "data": {
      "text/plain": [
       "(1048, 585)"
      ]
     },
     "execution_count": 98,
     "metadata": {},
     "output_type": "execute_result"
    }
   ],
   "source": [
    "mouse.position"
   ]
  },
  {
   "cell_type": "code",
   "execution_count": 101,
   "metadata": {},
   "outputs": [
    {
     "data": {
      "text/plain": [
       "(891, 401)"
      ]
     },
     "execution_count": 101,
     "metadata": {},
     "output_type": "execute_result"
    }
   ],
   "source": [
    "pos = ims.imagesearch(path+\"calcerbero.PNG\")\n",
    "pos"
   ]
  },
  {
   "cell_type": "code",
   "execution_count": 99,
   "metadata": {},
   "outputs": [
    {
     "data": {
      "text/plain": [
       "10"
      ]
     },
     "execution_count": 99,
     "metadata": {},
     "output_type": "execute_result"
    }
   ],
   "source": [
    "# x=[(691, 180),(570, 311),(810, 313),(458, 444),(697, 445),(927, 449),(341, 585),(580, 585),(802, 583),(1038, 584)]\n",
    "# len(x)\n",
    "\n",
    "x=[(696, 180),(575, 314),(809, 314),(458, 442),(698, 456),(924, 439),(349, 577),(565, 578),(809, 580),(1048, 585)]\n",
    "len(x)\n",
    "\n"
   ]
  },
  {
   "cell_type": "code",
   "execution_count": 130,
   "metadata": {},
   "outputs": [
    {
     "name": "stdout",
     "output_type": "stream",
     "text": [
      "3\n"
     ]
    }
   ],
   "source": [
    "\n",
    "\n",
    "print(random.randint(3, 9))"
   ]
  },
  {
   "cell_type": "code",
   "execution_count": 246,
   "metadata": {},
   "outputs": [],
   "source": [
    "import math\n",
    "\n",
    "def posicion_calcerbero(x):\n",
    "    pos = ims.imagesearch(path+\"calcerbero.PNG\")\n",
    "    \n",
    "    puntos=[]\n",
    "    minimo = 1000\n",
    "    p_minimo = -1\n",
    "    for i,item in enumerate(x):\n",
    "        distancia = math.sqrt(  math.pow(pos[0] - item[0],2)  + math.pow(pos[1] - item[1],2) )\n",
    "        if(distancia <minimo):\n",
    "            minimo=distancia\n",
    "            p_minimo= i\n",
    "        puntos.append(distancia)\n",
    "\n",
    "\n",
    "    return p_minimo\n",
    "\n",
    "def elegir_atacar(pos_calcerbero, no_atacar=[],v_d =[0,0],turno=0):\n",
    "    atacar=0\n",
    "    terminar = 0\n",
    "    estrategia = -1\n",
    "    while(terminar == 0):\n",
    "        if(turno==0):\n",
    "            atacar = random.randint(5,9)\n",
    "            estrategia = 0\n",
    "\n",
    "        ##################################\n",
    "        #IR POR PODIO\n",
    "        ##################################    \n",
    "        elif(  (pos_calcerbero not in [0,1]) and (v_d[1]==0)   ):\n",
    "            atacar=random.randint(0, 4)\n",
    "            estrategia = 1\n",
    "            \n",
    "        \n",
    "        ##################################\n",
    "        #GUARDAR PODIO\n",
    "        ##################################\n",
    "        elif(pos_calcerbero in [0,1]):\n",
    "            atacar=random.randint(6, 9)\n",
    "            estrategia = 2\n",
    "            \n",
    "        \n",
    "        ##########################################\n",
    "        # TRATAR DE ATACAR \n",
    "        #########################################\n",
    "        elif( (v_d[0]> 0)           ):\n",
    "            atacar = random.randint(6, 9)\n",
    "            estrategia = 3\n",
    "        \n",
    "        \n",
    "        \n",
    "        ###################################\n",
    "        # NINGUNA ESTRATEGIA\n",
    "        #################################\n",
    "        else:\n",
    "            atacar= random.randint(0, 9)\n",
    "            estrategia = -2\n",
    "\n",
    "        if(atacar not in no_atacar):\n",
    "            terminar= 1\n",
    "    \n",
    "    return atacar,estrategia\n",
    "        \n",
    "    \n",
    "\n"
   ]
  },
  {
   "cell_type": "code",
   "execution_count": 257,
   "metadata": {},
   "outputs": [
    {
     "data": {
      "text/plain": [
       "(2, 1)"
      ]
     },
     "execution_count": 257,
     "metadata": {},
     "output_type": "execute_result"
    }
   ],
   "source": [
    "elegir_atacar(5,turno=2)"
   ]
  },
  {
   "cell_type": "code",
   "execution_count": 122,
   "metadata": {},
   "outputs": [
    {
     "data": {
      "text/plain": [
       "6"
      ]
     },
     "execution_count": 122,
     "metadata": {},
     "output_type": "execute_result"
    }
   ],
   "source": [
    "pos_calcerbero = posicion_calcerbero(x)\n",
    "print(pos_calcerbero)\n",
    "elegir_atacar(pos_calcerbero)"
   ]
  },
  {
   "cell_type": "code",
   "execution_count": 104,
   "metadata": {},
   "outputs": [
    {
     "data": {
      "text/plain": [
       "4.0"
      ]
     },
     "execution_count": 104,
     "metadata": {},
     "output_type": "execute_result"
    }
   ],
   "source": [
    "math.sqrt(9)\n",
    "math.pow(2,2)"
   ]
  },
  {
   "cell_type": "code",
   "execution_count": 2,
   "metadata": {},
   "outputs": [],
   "source": [
    "import datetime\n",
    "import dateutil.relativedelta\n",
    "ahora = datetime.datetime.now()\n",
    "\n",
    "fecha = ahora + dateutil.relativedelta.relativedelta(minutes=1)"
   ]
  },
  {
   "cell_type": "code",
   "execution_count": 3,
   "metadata": {},
   "outputs": [
    {
     "data": {
      "text/plain": [
       "datetime.datetime(2020, 6, 20, 20, 37, 41, 92017)"
      ]
     },
     "execution_count": 3,
     "metadata": {},
     "output_type": "execute_result"
    }
   ],
   "source": [
    "fecha"
   ]
  },
  {
   "cell_type": "code",
   "execution_count": 4,
   "metadata": {},
   "outputs": [],
   "source": [
    "tiempo_ejecucion= datetime.datetime.now()"
   ]
=======
   "execution_count": null,
   "metadata": {},
   "outputs": [],
   "source": []
  },
  {
   "cell_type": "code",
   "execution_count": null,
   "metadata": {},
   "outputs": [],
   "source": []
  },
  {
   "cell_type": "code",
   "execution_count": null,
   "metadata": {},
   "outputs": [],
   "source": []
>>>>>>> ff5ad064fed2c83027a5401447802a91eaafa034
  },
  {
   "cell_type": "code",
   "execution_count": null,
   "metadata": {},
   "outputs": [],
<<<<<<< HEAD
   "source": [
    "tiempo_ejecucion= datetime.datetime.now()"
   ]
  },
  {
   "cell_type": "code",
   "execution_count": 15,
   "metadata": {},
   "outputs": [],
   "source": [
    "hora_final = tiempo_ejecucion + dateutil.relativedelta.relativedelta(minutes=80)  "
   ]
  },
  {
   "cell_type": "code",
   "execution_count": 8,
   "metadata": {},
   "outputs": [
    {
     "data": {
      "text/plain": [
       "datetime.timedelta(days=-1, seconds=86040)"
      ]
     },
     "execution_count": 8,
     "metadata": {},
     "output_type": "execute_result"
    }
   ],
   "source": [
    "tiempo_ejecucion - hora_final"
   ]
  },
  {
   "cell_type": "code",
   "execution_count": 16,
   "metadata": {},
   "outputs": [
    {
     "data": {
      "text/plain": [
       "20"
      ]
     },
     "execution_count": 16,
     "metadata": {},
     "output_type": "execute_result"
    }
   ],
   "source": [
    "hora_final.minute - tiempo_ejecucion.minute "
   ]
  },
  {
   "cell_type": "code",
   "execution_count": 19,
   "metadata": {},
   "outputs": [
    {
     "data": {
      "text/plain": [
       "80"
      ]
     },
     "execution_count": 19,
     "metadata": {},
     "output_type": "execute_result"
    }
   ],
   "source": [
    "(hora_final.hour - tiempo_ejecucion.hour) * 60 + (hora_final.minute - tiempo_ejecucion.minute)"
   ]
=======
   "source": []
  },
  {
   "cell_type": "code",
   "execution_count": null,
   "metadata": {},
   "outputs": [],
   "source": []
>>>>>>> ff5ad064fed2c83027a5401447802a91eaafa034
  }
 ],
 "metadata": {
  "kernelspec": {
   "display_name": "Python 3",
   "language": "python",
   "name": "python3"
  },
  "language_info": {
   "codemirror_mode": {
    "name": "ipython",
    "version": 3
   },
   "file_extension": ".py",
   "mimetype": "text/x-python",
   "name": "python",
   "nbconvert_exporter": "python",
   "pygments_lexer": "ipython3",
   "version": "3.8.3"
  }
 },
 "nbformat": 4,
 "nbformat_minor": 4
}
