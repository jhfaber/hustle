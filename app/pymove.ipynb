{
 "cells": [
  {
   "cell_type": "code",
   "execution_count": 7,
   "metadata": {},
   "outputs": [],
   "source": [
    "from app import Acciones\n",
    "import imagesearch as im"
   ]
  },
  {
   "cell_type": "code",
   "execution_count": null,
   "metadata": {},
   "outputs": [],
   "source": [
    "import importlib\n",
    "importlib.reload(Acciones)"
   ]
  },
  {
   "cell_type": "code",
   "execution_count": 4,
   "metadata": {},
   "outputs": [],
   "source": [
    "eje = Acciones()"
   ]
  },
  {
   "cell_type": "code",
   "execution_count": 10,
   "metadata": {},
   "outputs": [],
   "source": [
    "path = \"C:/Users/JOHN/development/hustle/hustle/app/img/pruebas/\""
   ]
  },
  {
   "cell_type": "code",
   "execution_count": 59,
   "metadata": {},
   "outputs": [
    {
     "data": {
      "text/plain": [
       "(390, 198)"
      ]
     },
     "execution_count": 59,
     "metadata": {},
     "output_type": "execute_result"
    }
   ],
   "source": [
    "im.imagesearch(path+\"carpeta.PNG\")"
   ]
  },
  {
   "cell_type": "code",
   "execution_count": 18,
   "metadata": {},
   "outputs": [],
   "source": [
    "from pynput.mouse import Button, Controller\n",
    "mouse=Controller()\n"
   ]
  },
  {
   "cell_type": "code",
   "execution_count": 94,
   "metadata": {},
   "outputs": [],
   "source": [
    "mouse.position=(712, 129)"
   ]
  },
  {
   "cell_type": "code",
   "execution_count": 95,
   "metadata": {},
   "outputs": [],
   "source": [
    "mouse.position=(800, 129)"
   ]
  },
  {
   "cell_type": "code",
   "execution_count": 122,
   "metadata": {},
   "outputs": [
    {
     "data": {
      "text/plain": [
       "(689, 356)"
      ]
     },
     "execution_count": 122,
     "metadata": {},
     "output_type": "execute_result"
    }
   ],
   "source": [
    "mouse.position"
   ]
  },
  {
   "cell_type": "code",
   "execution_count": 52,
   "metadata": {},
   "outputs": [],
   "source": [
    "mouse.position=(712, 129)\n",
    "time.sleep(1)\n",
    "pyautogui.mouseDown()\n",
    "# mouse.position=(712, 280)\n",
    "pyautogui.moveTo(712, 280, 2, pyautogui.easeOutQuad)\n",
    "pyautogui.mouseUp()\n",
    "\n",
    "\n"
   ]
  },
  {
   "cell_type": "code",
   "execution_count": 127,
   "metadata": {},
   "outputs": [],
   "source": [
    "import cv2\n",
    "    \n",
    "    \n",
    "def fun_arrastrar_img_a_otra(img_arr,offset=2):\n",
    "    pos = im.imagesearch(path+img_arr[0])\n",
    "    pos2= im.imagesearch(path+img_arr[1])\n",
    "    \n",
    "    \n",
    "\n",
    "    if(pos[0]!=-1 and pos2[0]!=-1):\n",
    "        img = cv2.imread(path+img_arr[0])\n",
    "        img2 = cv2.imread(path+img_arr[1])\n",
    "        height, width, channels = img.shape\n",
    "        height2, width2, channels2 = img2.shape\n",
    "        \n",
    "        pyautogui.moveTo( pos[0] +width/2, pos[1] + height/2,2, pyautogui.easeInOutQuad)\n",
    "        pyautogui.mouseDown() #sostener\n",
    "        pyautogui.moveTo(pos2[0] + r(width / 2, offset), pos2[1] + r(height / 2, offset),2, pyautogui.easeInOutQuad)\n",
    "        pyautogui.mouseUp()   \n",
    "        \n",
    "        \n",
    "def fun_roll(img=\"\",pos=(689, 356),operation=\"righ\",pixels=320):\n",
    "    \n",
    "    movementx=0\n",
    "    movementy=0\n",
    "    \n",
    "    if(operation==\"righ\"):\n",
    "        movementx =movementx - pixels\n",
    "    elif(operation==\"left\"):\n",
    "        movementx =movementx + pixels\n",
    "    elif(operation==\"up\"):\n",
    "        movementy = movementy + pixels\n",
    "    elif(operation==\"down\"):\n",
    "        movementy = movementy - pixels\n",
    "        \n",
    "    \n",
    "    if(img!=\"\"):\n",
    "        pos = im.imagesearch(path+img)\n",
    "        if(pos[0]!=-1):\n",
    "\n",
    "            img = cv2.imread(path+img)\n",
    "            height, width, channels = img.shape\n",
    "\n",
    "            pyautogui.moveTo( pos[0] +width/2, pos[1] + height/2,2, pyautogui.easeInOutQuad)\n",
    "            pyautogui.mouseDown() #sostener\n",
    "            pyautogui.moveTo(pos[0] + width/2 + movementx, pos[1] + height/2  +movementy  ,2  , pyautogui.easeInOutQuad)\n",
    "            pyautogui.mouseUp() \n",
    "    else:\n",
    "        pyautogui.moveTo( pos[0] , pos[1] ,2, pyautogui.easeInOutQuad)\n",
    "        pyautogui.mouseDown() #sostener\n",
    "        pyautogui.moveTo(pos[0] + movementx, pos[1]  +movementy  ,2  , pyautogui.easeInOutQuad)\n",
    "        pyautogui.mouseUp() \n",
    "        \n",
    "\n",
    "    "
   ]
  },
  {
   "cell_type": "code",
   "execution_count": null,
   "metadata": {},
   "outputs": [],
   "source": []
  },
  {
   "cell_type": "code",
   "execution_count": 129,
   "metadata": {},
   "outputs": [],
   "source": [
    "# fun_roll(\"comodin.PNG\",operation=\"left\")\n",
    "fun_roll(operation=\"up\")"
   ]
  },
  {
   "cell_type": "code",
   "execution_count": 88,
   "metadata": {},
   "outputs": [],
   "source": [
    "import random\n",
    "\n",
    "def r(num, rand):\n",
    "    return num + rand * random.random()"
   ]
  },
  {
   "cell_type": "code",
   "execution_count": 92,
   "metadata": {},
   "outputs": [
    {
     "name": "stdout",
     "output_type": "stream",
     "text": [
      "(626, 419)\n",
      "(664, 181)\n",
      "(390, 418)\n",
      "(777, 181)\n",
      "(861, 422)\n",
      "(551, 181)\n"
     ]
    }
   ],
   "source": [
    "img = [\"arquera.PNG\",\"espacio_vacio.PNG\"]\n",
    "img2 = [\"arquero2.PNG\",\"espacio_vacio.PNG\"]\n",
    "img3 = [\"mago.PNG\",\"espacio_vacio.PNG\"]\n",
    "\n",
    "\n",
    "img_ar=[img,img2,img3]\n",
    "for i, item in enumerate(img_ar):\n",
    "    fun_arrastrar_img_a_otra(item)"
   ]
  },
  {
   "cell_type": "code",
   "execution_count": 33,
   "metadata": {},
   "outputs": [],
   "source": [
    "import pyautogui\n",
    "import time"
   ]
  },
  {
   "cell_type": "code",
   "execution_count": 29,
   "metadata": {},
   "outputs": [],
   "source": []
  }
 ],
 "metadata": {
  "kernelspec": {
   "display_name": "Python 3",
   "language": "python",
   "name": "python3"
  },
  "language_info": {
   "codemirror_mode": {
    "name": "ipython",
    "version": 3
   },
   "file_extension": ".py",
   "mimetype": "text/x-python",
   "name": "python",
   "nbconvert_exporter": "python",
   "pygments_lexer": "ipython3",
   "version": "3.8.3"
  }
 },
 "nbformat": 4,
 "nbformat_minor": 4
}
