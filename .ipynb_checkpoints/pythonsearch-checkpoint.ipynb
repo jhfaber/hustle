{
 "cells": [
  {
   "cell_type": "code",
   "execution_count": 52,
   "metadata": {},
   "outputs": [
    {
     "data": {
      "text/plain": [
       "<module 'app.imagesearch' from 'C:\\\\Users\\\\JOHN\\\\development\\\\hustle\\\\hustle\\\\app\\\\imagesearch.py'>"
      ]
     },
     "execution_count": 52,
     "metadata": {},
     "output_type": "execute_result"
    }
   ],
   "source": [
    "\n",
    "import importlib\n",
    "\n",
    "from app import imagesearch as ims\n",
    "from app.caminos import caminos\n",
    "\n",
    "importlib.reload(ims)"
   ]
  },
  {
   "cell_type": "code",
   "execution_count": 5,
   "metadata": {},
   "outputs": [],
   "source": [
    "path=\"app/img/\""
   ]
  },
  {
   "cell_type": "code",
   "execution_count": 49,
   "metadata": {},
   "outputs": [
    {
     "data": {
      "text/plain": [
       "(500, 644)"
      ]
     },
     "execution_count": 49,
     "metadata": {},
     "output_type": "execute_result"
    }
   ],
   "source": [
    "pos = ims.imagesearch(path+\"arena.PNG\")\n",
    "pos"
   ]
  },
  {
   "cell_type": "code",
   "execution_count": 8,
   "metadata": {},
   "outputs": [
    {
     "data": {
      "text/plain": [
       "[-1, -1]"
      ]
     },
     "execution_count": 8,
     "metadata": {},
     "output_type": "execute_result"
    }
   ],
   "source": [
    "ims.imagesearch(path+\"2.PNG\")"
   ]
  },
  {
   "cell_type": "code",
   "execution_count": 50,
   "metadata": {},
   "outputs": [],
   "source": [
    "if(pos[0]!=-1):\n",
    "    ims.click_image(path+\"arena.PNG\",pos,\"left\",clicks=1)"
   ]
  },
  {
   "cell_type": "code",
   "execution_count": 54,
   "metadata": {},
   "outputs": [
    {
     "data": {
      "text/plain": [
       "[{'img': 'mapa.PNG', 'accion': 'click'},\n",
       " {'img': 'arena.PNG', 'accion': 'click'}]"
      ]
     },
     "execution_count": 54,
     "metadata": {},
     "output_type": "execute_result"
    }
   ],
   "source": [
    "caminos[\"jugar_arena\"]"
   ]
  },
  {
   "cell_type": "code",
   "execution_count": 59,
   "metadata": {},
   "outputs": [
    {
     "name": "stdout",
     "output_type": "stream",
     "text": [
      "app/img/mapa.PNG\n",
      "app/img/arena.PNG\n"
     ]
    }
   ],
   "source": [
    "def ejecutar_camino(camino=\"jugar_arena\"):\n",
    "    ejecutar=caminos[camino]\n",
    "#     print(ejecutar)\n",
    "    \n",
    "    for (i, item) in enumerate(ejecutar):\n",
    "#         print(path+item[\"img\"])\n",
    "        \n",
    "#         pos = ims.imagesearch(path+\"2.PNG\")\n",
    "#         print(pos)\n",
    "#         if(pos[0]!=-1):\n",
    "#             correcto = ims.click_image(img,pos,accion,clicks=1)\n",
    "        correcto = ejecutar_accion(item)\n",
    "        print(correcto)\n",
    "\n",
    "ejecutar_camino()"
   ]
  },
  {
   "cell_type": "code",
   "execution_count": 61,
   "metadata": {},
   "outputs": [],
   "source": [
    "def ejecutar_accion(item):\n",
    "    img= path.item[\"img\"]\n",
    "    accion= item[\"accion\"]\n",
    "    \n",
    "    pos = ims.imagesearch(img)\n",
    "    if(pos[0]!=-1):\n",
    "\n",
    "        if(accion==\"click\"):\n",
    "            ims.click_image(img,pos,\"left\")\n",
    "        elif(accion==\"doble\"):\n",
    "            ims.click_image(image=img,clicks=2,pos=pos,action=\"left\")\n",
    "        return 1\n",
    "    \n",
    "    return 0"
   ]
  },
  {
   "cell_type": "code",
   "execution_count": null,
   "metadata": {},
   "outputs": [],
   "source": []
  },
  {
   "cell_type": "code",
   "execution_count": null,
   "metadata": {},
   "outputs": [],
   "source": []
  }
 ],
 "metadata": {
  "kernelspec": {
   "display_name": "Python 3",
   "language": "python",
   "name": "python3"
  },
  "language_info": {
   "codemirror_mode": {
    "name": "ipython",
    "version": 3
   },
   "file_extension": ".py",
   "mimetype": "text/x-python",
   "name": "python",
   "nbconvert_exporter": "python",
   "pygments_lexer": "ipython3",
   "version": "3.8.3"
  }
 },
 "nbformat": 4,
 "nbformat_minor": 4
}
